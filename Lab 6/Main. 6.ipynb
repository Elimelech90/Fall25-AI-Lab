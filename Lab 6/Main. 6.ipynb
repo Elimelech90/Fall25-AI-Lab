{
 "cells": [
  {
   "cell_type": "markdown",
   "id": "33ac0a09",
   "metadata": {},
   "source": [
    "Task 1"
   ]
  },
  {
   "cell_type": "code",
   "execution_count": 1,
   "id": "847c5ce5",
   "metadata": {},
   "outputs": [
    {
     "name": "stdout",
     "output_type": "stream",
     "text": [
      "Traversal path: ABCDEF\n",
      "Path length: 6\n"
     ]
    }
   ],
   "source": [
    "graph = { \n",
    "    'A': {'B', 'C'},\n",
    "    'B': {'C', 'D', 'E'},\n",
    "    'C': {'F'},\n",
    "    'D': set(),\n",
    "    'E': set(),\n",
    "    'F': {'G'},\n",
    "    'G': set()\n",
    "}\n",
    "\n",
    "def bfs_without_queue(start, goal):\n",
    "    frontier = [start]\n",
    "    visited = set()\n",
    "    traversal_path = []\n",
    "\n",
    "    while frontier:\n",
    "        current = frontier.pop(0)\n",
    "        if current in visited:\n",
    "            continue\n",
    "        visited.add(current)\n",
    "        traversal_path.append(current)\n",
    "\n",
    "        if current == goal:\n",
    "            return traversal_path\n",
    "        for neighbor in sorted(graph[current]):\n",
    "            if neighbor not in visited and neighbor not in frontier:\n",
    "                frontier.append(neighbor)\n",
    "\n",
    "    return None\n",
    "\n",
    "start = 'A'\n",
    "goal = input(\"Enter goal node: \").upper()\n",
    "result = bfs_without_queue(start, goal)\n",
    "\n",
    "if result:\n",
    "    path_str = ''.join(result)\n",
    "    print(f\"Traversal path: {path_str}\")\n",
    "    print(f\"Path length: {len(path_str)}\")\n",
    "else:\n",
    "    print(\"Goal not found\")"
   ]
  },
  {
   "cell_type": "markdown",
   "id": "de6adecc",
   "metadata": {},
   "source": [
    "Task 2"
   ]
  },
  {
   "cell_type": "code",
   "execution_count": 2,
   "id": "9af3aee0",
   "metadata": {},
   "outputs": [
    {
     "name": "stdout",
     "output_type": "stream",
     "text": [
      "Shortest path: ACF\n",
      "Path length: 3\n"
     ]
    }
   ],
   "source": [
    "graph = { \n",
    "    'A': {'B', 'C'},\n",
    "    'B': {'C', 'D', 'E'},\n",
    "    'C': {'F'},\n",
    "    'D': set(),\n",
    "    'E': set(),\n",
    "    'F': {'G'},\n",
    "    'G': set()\n",
    "}\n",
    "class Node:\n",
    "    def __init__(self, state, path=None):\n",
    "        self.state = state\n",
    "        self.path = path if path is not None else [state]\n",
    "\n",
    "class Queue:\n",
    "    def __init__(self):\n",
    "        self.items = []\n",
    "    \n",
    "    def enqueue(self, item):\n",
    "        self.items.append(item)\n",
    "    \n",
    "    def dequeue(self):\n",
    "        return self.items.pop(0) if self.items else None\n",
    "    \n",
    "    def is_empty(self):\n",
    "        return len(self.items) == 0\n",
    "\n",
    "def bfs_with_queue_and_node(start, goal):\n",
    "    queue = Queue()\n",
    "    visited = set()\n",
    "    \n",
    "    start_node = Node(start)\n",
    "    queue.enqueue(start_node)\n",
    "    visited.add(start)\n",
    "    \n",
    "    while not queue.is_empty():\n",
    "        current_node = queue.dequeue()\n",
    "        current = current_node.state\n",
    "        \n",
    "        if current == goal:\n",
    "            return current_node.path\n",
    "        \n",
    "        for neighbor in sorted(graph[current]):\n",
    "            if neighbor not in visited:\n",
    "                visited.add(neighbor)\n",
    "                new_path = current_node.path + [neighbor]\n",
    "                new_node = Node(neighbor, new_path)\n",
    "                queue.enqueue(new_node)\n",
    "    \n",
    "    return None\n",
    "\n",
    "start = 'A'\n",
    "goal = input(\"Enter goal node: \").upper()\n",
    "result = bfs_with_queue_and_node(start, goal)\n",
    "\n",
    "if result:\n",
    "    path_str = ''.join(result)\n",
    "    print(f\"Shortest path: {path_str}\")\n",
    "    print(f\"Path length: {len(path_str)}\")\n",
    "else:\n",
    "    print(\"Goal not found\")"
   ]
  }
 ],
 "metadata": {
  "kernelspec": {
   "display_name": "base",
   "language": "python",
   "name": "python3"
  },
  "language_info": {
   "codemirror_mode": {
    "name": "ipython",
    "version": 3
   },
   "file_extension": ".py",
   "mimetype": "text/x-python",
   "name": "python",
   "nbconvert_exporter": "python",
   "pygments_lexer": "ipython3",
   "version": "3.12.4"
  }
 },
 "nbformat": 4,
 "nbformat_minor": 5
}
