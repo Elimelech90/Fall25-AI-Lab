{
 "cells": [
  {
   "cell_type": "code",
   "execution_count": 20,
   "id": "de3da802",
   "metadata": {},
   "outputs": [
    {
     "name": "stdout",
     "output_type": "stream",
     "text": [
      "Visiting: A\n",
      "Visiting: B\n",
      "Visiting: C\n",
      "Visiting: D\n",
      "Visiting: E\n",
      "Visiting: F\n",
      "Found target: F!\n",
      "The Nodes are: ['A', 'B', 'C', 'D', 'E', 'F']\n",
      "Success: Found F!\n"
     ]
    }
   ],
   "source": [
    "def bfs_visited(graph, start, target):\n",
    "    visited = set()          \n",
    "    current_level = [start]  \n",
    "\n",
    "    while current_level:\n",
    "        next_level = []      \n",
    "        for node in current_level:\n",
    "            if node not in visited:\n",
    "                print(f\"Visiting: {node}\")  \n",
    "                \n",
    "                if node == target:\n",
    "                    print(f\"Found target: {target}!\")\n",
    "                    print(f\"The Nodes are: {sorted(list(visited) + [node])}\")\n",
    "                    return f\"Success: Found {target}!\"\n",
    "                \n",
    "                visited.add(node) \n",
    "                \n",
    "                for neighbor in sorted(graph[node]):\n",
    "                    if neighbor not in visited:\n",
    "                        next_level.append(neighbor)\n",
    "        \n",
    "        current_level = sorted(next_level)\n",
    "    \n",
    "    print(f\"visited: {sorted(visited)}\")\n",
    "    return f\"Target {target} not found\"\n",
    "\n",
    "graph = {\n",
    "    'A': ['B', 'C'],\n",
    "    'B': ['D', 'E'],\n",
    "    'C': ['F'],\n",
    "    'D': [],    \n",
    "    'E': ['G'],\n",
    "    'G': ['F']\n",
    "}\n",
    "\n",
    "print(bfs_visited(graph, 'A', 'F'))"
   ]
  },
  {
   "cell_type": "code",
   "execution_count": 21,
   "id": "2a87c88a",
   "metadata": {},
   "outputs": [
    {
     "name": "stdout",
     "output_type": "stream",
     "text": [
      "A\n",
      "B\n",
      "C\n",
      "D\n",
      "E\n",
      "F\n",
      "target: F!\n",
      "Found F!\n"
     ]
    }
   ],
   "source": [
    "\n",
    "\n",
    "def bfs_queue(graph, start, target):\n",
    "    visited = set()\n",
    "    queue = [start]\n",
    "    \n",
    "    while queue:\n",
    "        node = queue[0]        \n",
    "        queue = queue[1:]     \n",
    "        \n",
    "        print(f\"{node}\")\n",
    "        \n",
    "        if node == target:\n",
    "            print(f\"target: {target}!\")\n",
    "            return f\"Found {target}!\"\n",
    "        \n",
    "        if node not in visited:\n",
    "            visited.add(node)\n",
    "            \n",
    "            for neighbor in graph[node]:\n",
    "                if neighbor not in visited:\n",
    "                    queue.append(neighbor)  \n",
    "    print(f\" {target}\")\n",
    "    return f\"{target}\"\n",
    "print(bfs_queue(graph, 'A', 'F'))"
   ]
  }
 ],
 "metadata": {
  "kernelspec": {
   "display_name": "base",
   "language": "python",
   "name": "python3"
  },
  "language_info": {
   "codemirror_mode": {
    "name": "ipython",
    "version": 3
   },
   "file_extension": ".py",
   "mimetype": "text/x-python",
   "name": "python",
   "nbconvert_exporter": "python",
   "pygments_lexer": "ipython3",
   "version": "3.12.4"
  }
 },
 "nbformat": 4,
 "nbformat_minor": 5
}
