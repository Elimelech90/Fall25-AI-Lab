{
 "cells": [
  {
   "cell_type": "markdown",
   "id": "0c7d0667",
   "metadata": {},
   "source": [
    "Task 4"
   ]
  },
  {
   "cell_type": "markdown",
   "id": "dc79954f",
   "metadata": {},
   "source": [
    "Question no : 01, Code for LUHN Algorithm "
   ]
  },
  {
   "cell_type": "code",
   "execution_count": null,
   "id": "a7d4e4f7",
   "metadata": {},
   "outputs": [
    {
     "name": "stdout",
     "output_type": "stream",
     "text": [
      "5160620248025116 is VALID\n"
     ]
    }
   ],
   "source": [
    "def luhn(card_number):\n",
    "\n",
    "    check_digit = int(card_number[-1])\n",
    "    digits = [int(d) for d in card_number[:-1]]\n",
    "    digits.reverse()\n",
    "    for i in range(0, len(digits), 2):\n",
    "        digits[i] *= 2\n",
    "        if digits[i] > 9:\n",
    "            digits[i] -= 9\n",
    "    total = sum(digits) + check_digit\n",
    "    return total % 10 == 0\n",
    "\n",
    "\n",
    "card = \"5160620248025116\"\n",
    "if luhn(card):\n",
    "    print(f\"{card} is VALID\")\n",
    "else:\n",
    "    print(f\"{card} is NOT Valid\")\n",
    "\n"
   ]
  },
  {
   "cell_type": "markdown",
   "id": "92bf7ce4",
   "metadata": {},
   "source": [
    "Question no : 02, Write a python program to remove punctuations from the given string? "
   ]
  },
  {
   "cell_type": "code",
   "execution_count": 2,
   "id": "d7babc7c",
   "metadata": {},
   "outputs": [
    {
     "name": "stdout",
     "output_type": "stream",
     "text": [
      "String without punctuation: Hello how are you\n"
     ]
    }
   ],
   "source": [
    "import re\n",
    "\n",
    "\n",
    "text = input(\"Enter a string: \")\n",
    "\n",
    "# Use re.sub() to remove all punctuation\n",
    "cleaned_text = re.sub(r'[^\\w\\s]', '', text)\n",
    "\n",
    "print(\"String without punctuation:\", cleaned_text)\n"
   ]
  },
  {
   "cell_type": "markdown",
   "id": "3e8eb744",
   "metadata": {},
   "source": [
    "Question no : 03, Write a python program to sort the sentence in alphabetical order? "
   ]
  },
  {
   "cell_type": "code",
   "execution_count": 3,
   "id": "e4638f36",
   "metadata": {},
   "outputs": [
    {
     "name": "stdout",
     "output_type": "stream",
     "text": [
      "Sentence in alphabetical order: elimelech is my name\n"
     ]
    }
   ],
   "source": [
    "sentence = input(\"Enter a sentence: \")\n",
    "words = sentence.split()\n",
    "words.sort()\n",
    "sorted_sentence = \" \".join(words)\n",
    "\n",
    "print(\"Sentence in alphabetical order:\", sorted_sentence)\n"
   ]
  }
 ],
 "metadata": {
  "kernelspec": {
   "display_name": "base",
   "language": "python",
   "name": "python3"
  },
  "language_info": {
   "codemirror_mode": {
    "name": "ipython",
    "version": 3
   },
   "file_extension": ".py",
   "mimetype": "text/x-python",
   "name": "python",
   "nbconvert_exporter": "python",
   "pygments_lexer": "ipython3",
   "version": "3.12.4"
  }
 },
 "nbformat": 4,
 "nbformat_minor": 5
}
