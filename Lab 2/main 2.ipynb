{
 "cells": [
  {
   "cell_type": "code",
   "execution_count": 1,
   "id": "c6b3588e",
   "metadata": {},
   "outputs": [
    {
     "name": "stdout",
     "output_type": "stream",
     "text": [
      "\n",
      "--- Round 1 ---\n",
      "Computer chose: 19\n",
      "Sum = 19 + 1 = 20\n",
      "Buzz\n",
      "\n",
      "--- Round 2 ---\n",
      "Computer chose: 13\n",
      "Sum = 13 + 3 = 16\n",
      "16\n",
      "\n",
      "--- Round 3 ---\n",
      "Computer chose: 4\n",
      "Sum = 4 + 4 = 8\n",
      "8\n",
      "\n",
      "--- Round 4 ---\n",
      "Computer chose: 14\n",
      "Sum = 14 + 3 = 17\n",
      "17\n"
     ]
    }
   ],
   "source": [
    "import random\n",
    "\n",
    "rounds = 4  \n",
    "\n",
    "for i in range(1, rounds + 1):\n",
    "    print(f\"\\n--- Round {i} ---\")\n",
    "    \n",
    "    \n",
    "\n",
    "    comp_num = random.randint(1, 20)\n",
    "    print(\"Computer chose:\", comp_num)\n",
    "\n",
    "    user_input = input(\"Enter your number: \")\n",
    "\n",
    "    if user_input.isnumeric():\n",
    "        user_num = int(user_input)\n",
    "\n",
    "        total = comp_num + user_num\n",
    "        print(f\"Sum = {comp_num} + {user_num} = {total}\")\n",
    "\n",
    "        if total % 3 == 0 and total % 5 == 0:\n",
    "            print(\"FizzBuzz\")\n",
    "        elif total % 3 == 0:\n",
    "            print(\"Fizz\")\n",
    "        elif total % 5 == 0:\n",
    "            print(\"Buzz\")\n",
    "        else:\n",
    "            print(total)\n",
    "\n",
    "    else:\n",
    "        print(\"Invalid input, please enter a number.\")"
   ]
  }
 ],
 "metadata": {
  "kernelspec": {
   "display_name": "base",
   "language": "python",
   "name": "python3"
  },
  "language_info": {
   "codemirror_mode": {
    "name": "ipython",
    "version": 3
   },
   "file_extension": ".py",
   "mimetype": "text/x-python",
   "name": "python",
   "nbconvert_exporter": "python",
   "pygments_lexer": "ipython3",
   "version": "3.12.4"
  }
 },
 "nbformat": 4,
 "nbformat_minor": 5
}
