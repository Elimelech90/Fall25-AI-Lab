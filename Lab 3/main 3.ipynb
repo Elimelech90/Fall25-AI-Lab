{
 "cells": [
  {
   "cell_type": "markdown",
   "id": "2fa48125",
   "metadata": {},
   "source": [
    "Lab 3 Task"
   ]
  },
  {
   "cell_type": "code",
   "execution_count": 1,
   "id": "74d506bb",
   "metadata": {},
   "outputs": [
    {
     "name": "stdout",
     "output_type": "stream",
     "text": [
      "Living Room :\t22°C => Action: Turn off the AC\n",
      "Drawing Room :\t24°C => Action: Turn on the AC\n",
      "Kitchen :\t30°C => Action: No action needed\n",
      "Bed Room :\t19°C => Action: Turn off the AC\n",
      "\n",
      "Example of an individual room:\n",
      "24°C => Action: Turn on the AC\n"
     ]
    }
   ],
   "source": [
    "class ModelBasedReflexAgent:\n",
    "    def __init__(self, temp):\n",
    "        self.fixed_temp = temp\n",
    "        self.previous_action = None \n",
    "    \n",
    "    def sensor(self, temp):\n",
    "        self.current_temp = temp\n",
    "    \n",
    "    def performance(self):\n",
    "        action = None\n",
    "        if self.current_temp > self.fixed_temp:\n",
    "            action = \"Turn on the AC\"\n",
    "        else:\n",
    "            action = \"Turn off the AC\"\n",
    "            \n",
    "         # if the previous is equal to the current action   \n",
    "        if self.previous_action == action:\n",
    "            action = \"No action needed\"\n",
    "        \n",
    "        # updating the previous action\n",
    "        self.previous_action = action\n",
    "        return action\n",
    "    \n",
    "    def actuator(self):\n",
    "        action = self.performance()\n",
    "        print(f\"{self.current_temp}°C => Action: {action}\")\n",
    "\n",
    "rooms = {\n",
    "    \"Living Room\": 22,\n",
    "    \"Drawing Room\": 24,\n",
    "    \"Kitchen\": 30,\n",
    "    \"Bed Room\": 19\n",
    "}\n",
    "\n",
    "\n",
    "agent = ModelBasedReflexAgent(22)\n",
    "for room, temp in rooms.items():\n",
    "    print(f\"{room} :\\t\", end='')\n",
    "    agent.sensor(temp)\n",
    "    agent.actuator()\n",
    "\n",
    "\n",
    "print(\"\\nExample of an individual room:\")\n",
    "agent.sensor(24)\n",
    "agent.actuator()"
   ]
  }
 ],
 "metadata": {
  "kernelspec": {
   "display_name": "base",
   "language": "python",
   "name": "python3"
  },
  "language_info": {
   "codemirror_mode": {
    "name": "ipython",
    "version": 3
   },
   "file_extension": ".py",
   "mimetype": "text/x-python",
   "name": "python",
   "nbconvert_exporter": "python",
   "pygments_lexer": "ipython3",
   "version": "3.12.4"
  }
 },
 "nbformat": 4,
 "nbformat_minor": 5
}
